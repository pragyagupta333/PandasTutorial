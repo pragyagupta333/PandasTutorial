{
 "cells": [
  {
   "cell_type": "markdown",
   "id": "8a55362f",
   "metadata": {},
   "source": [
    "# Exporting Data & Reading Data From Excel"
   ]
  },
  {
   "cell_type": "code",
   "execution_count": 2,
   "id": "1b62e2e1",
   "metadata": {},
   "outputs": [],
   "source": [
    "import pandas as pd"
   ]
  },
  {
   "cell_type": "code",
   "execution_count": 3,
   "id": "5d459c92",
   "metadata": {},
   "outputs": [],
   "source": [
    "data = pd.read_csv(\"C:/Users/PRAGYA GUPTA/OneDrive/Documents/MyProjects/PandasTutorial/csvFile/titanic/train.csv\")"
   ]
  },
  {
   "cell_type": "markdown",
   "id": "a03dba3a",
   "metadata": {},
   "source": [
    "Suppose, I want above .csv as .xlsx (excel file) => use to_excel"
   ]
  },
  {
   "cell_type": "markdown",
   "id": "a38f533f",
   "metadata": {},
   "source": [
    "## Exporting To Excel "
   ]
  },
  {
   "cell_type": "markdown",
   "id": "c807cabc",
   "metadata": {},
   "source": [
    "### 1. to_excel( ) :"
   ]
  },
  {
   "cell_type": "markdown",
   "id": "41f42e5c",
   "metadata": {},
   "source": [
    "The to_excel() method stores the data as an excel file."
   ]
  },
  {
   "cell_type": "code",
   "execution_count": 7,
   "id": "227b2283",
   "metadata": {},
   "outputs": [],
   "source": [
    "data.to_excel(\"train.xlsx\", sheet_name=\"passengers\", index=False)"
   ]
  },
  {
   "cell_type": "markdown",
   "id": "df93ae64",
   "metadata": {},
   "source": [
    " By setting index=False the row index labels are not saved in the spreadsheet."
   ]
  },
  {
   "cell_type": "markdown",
   "id": "f3703844",
   "metadata": {},
   "source": [
    "## Reading From Excel"
   ]
  },
  {
   "cell_type": "markdown",
   "id": "13261b5d",
   "metadata": {},
   "source": [
    "### 2. read_excel( ) :"
   ]
  },
  {
   "cell_type": "markdown",
   "id": "fdffb58c",
   "metadata": {},
   "source": [
    "read_excel() will reload the data to a DataFrame"
   ]
  },
  {
   "cell_type": "code",
   "execution_count": 9,
   "id": "96c32f62",
   "metadata": {},
   "outputs": [],
   "source": [
    "dataEx = pd.read_excel(\"train.xlsx\", sheet_name=\"passengers\")"
   ]
  },
  {
   "cell_type": "code",
   "execution_count": 11,
   "id": "81a17d39",
   "metadata": {},
   "outputs": [
    {
     "data": {
      "text/html": [
       "<div>\n",
       "<style scoped>\n",
       "    .dataframe tbody tr th:only-of-type {\n",
       "        vertical-align: middle;\n",
       "    }\n",
       "\n",
       "    .dataframe tbody tr th {\n",
       "        vertical-align: top;\n",
       "    }\n",
       "\n",
       "    .dataframe thead th {\n",
       "        text-align: right;\n",
       "    }\n",
       "</style>\n",
       "<table border=\"1\" class=\"dataframe\">\n",
       "  <thead>\n",
       "    <tr style=\"text-align: right;\">\n",
       "      <th></th>\n",
       "      <th>PassengerId</th>\n",
       "      <th>Survived</th>\n",
       "      <th>Pclass</th>\n",
       "      <th>Name</th>\n",
       "      <th>Sex</th>\n",
       "      <th>Age</th>\n",
       "      <th>SibSp</th>\n",
       "      <th>Parch</th>\n",
       "      <th>Ticket</th>\n",
       "      <th>Fare</th>\n",
       "      <th>Cabin</th>\n",
       "      <th>Embarked</th>\n",
       "    </tr>\n",
       "  </thead>\n",
       "  <tbody>\n",
       "    <tr>\n",
       "      <th>0</th>\n",
       "      <td>1</td>\n",
       "      <td>0</td>\n",
       "      <td>3</td>\n",
       "      <td>Braund, Mr. Owen Harris</td>\n",
       "      <td>male</td>\n",
       "      <td>22.0</td>\n",
       "      <td>1</td>\n",
       "      <td>0</td>\n",
       "      <td>A/5 21171</td>\n",
       "      <td>7.25</td>\n",
       "      <td>NaN</td>\n",
       "      <td>S</td>\n",
       "    </tr>\n",
       "  </tbody>\n",
       "</table>\n",
       "</div>"
      ],
      "text/plain": [
       "   PassengerId  Survived  Pclass                     Name   Sex   Age  SibSp  \\\n",
       "0            1         0       3  Braund, Mr. Owen Harris  male  22.0      1   \n",
       "\n",
       "   Parch     Ticket  Fare Cabin Embarked  \n",
       "0      0  A/5 21171  7.25   NaN        S  "
      ]
     },
     "execution_count": 11,
     "metadata": {},
     "output_type": "execute_result"
    }
   ],
   "source": [
    "dataEx.head(1)"
   ]
  },
  {
   "cell_type": "markdown",
   "id": "cb959d44",
   "metadata": {},
   "source": [
    "#### ~ Pragya 🎀"
   ]
  }
 ],
 "metadata": {
  "kernelspec": {
   "display_name": "Python 3 (ipykernel)",
   "language": "python",
   "name": "python3"
  },
  "language_info": {
   "codemirror_mode": {
    "name": "ipython",
    "version": 3
   },
   "file_extension": ".py",
   "mimetype": "text/x-python",
   "name": "python",
   "nbconvert_exporter": "python",
   "pygments_lexer": "ipython3",
   "version": "3.9.13"
  }
 },
 "nbformat": 4,
 "nbformat_minor": 5
}
