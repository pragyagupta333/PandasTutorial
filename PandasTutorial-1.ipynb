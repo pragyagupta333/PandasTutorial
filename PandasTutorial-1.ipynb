{
 "cells": [
  {
   "cell_type": "markdown",
   "id": "73d81f6e",
   "metadata": {},
   "source": [
    "#  Load Pandas Package"
   ]
  },
  {
   "cell_type": "code",
   "execution_count": 1,
   "id": "e23b3da8",
   "metadata": {},
   "outputs": [],
   "source": [
    "import pandas as pd"
   ]
  },
  {
   "cell_type": "markdown",
   "id": "4467358b",
   "metadata": {},
   "source": [
    "## 1. DataFrame (df) : \n",
    "A 2-dimensional data structure [rows and columns] that can store data of different types.\n",
    "Similar to an SQL table.\n"
   ]
  },
  {
   "cell_type": "markdown",
   "id": "1db99e52",
   "metadata": {},
   "source": [
    "### **Creating DataFrame** "
   ]
  },
  {
   "cell_type": "markdown",
   "id": "8944c4c1",
   "metadata": {},
   "source": [
    "DataFrame for Customers Data with their name, age and gender."
   ]
  },
  {
   "cell_type": "code",
   "execution_count": 2,
   "id": "a4e1d42b",
   "metadata": {},
   "outputs": [],
   "source": [
    "df = pd.DataFrame({\n",
    "        \"Name\"   : [\"Ram Sharma\", \"Ashok Shah\", \"Riya Verma\"],\n",
    "        \"Age\"    : [22, 23, 21],\n",
    "        \"Gender\" : ['Male', 'Male', 'Female']\n",
    "})"
   ]
  },
  {
   "cell_type": "code",
   "execution_count": 3,
   "id": "acb6f5e8",
   "metadata": {},
   "outputs": [
    {
     "data": {
      "text/html": [
       "<div>\n",
       "<style scoped>\n",
       "    .dataframe tbody tr th:only-of-type {\n",
       "        vertical-align: middle;\n",
       "    }\n",
       "\n",
       "    .dataframe tbody tr th {\n",
       "        vertical-align: top;\n",
       "    }\n",
       "\n",
       "    .dataframe thead th {\n",
       "        text-align: right;\n",
       "    }\n",
       "</style>\n",
       "<table border=\"1\" class=\"dataframe\">\n",
       "  <thead>\n",
       "    <tr style=\"text-align: right;\">\n",
       "      <th></th>\n",
       "      <th>Name</th>\n",
       "      <th>Age</th>\n",
       "      <th>Gender</th>\n",
       "    </tr>\n",
       "  </thead>\n",
       "  <tbody>\n",
       "    <tr>\n",
       "      <th>0</th>\n",
       "      <td>Ram Sharma</td>\n",
       "      <td>22</td>\n",
       "      <td>Male</td>\n",
       "    </tr>\n",
       "    <tr>\n",
       "      <th>1</th>\n",
       "      <td>Ashok Shah</td>\n",
       "      <td>23</td>\n",
       "      <td>Male</td>\n",
       "    </tr>\n",
       "    <tr>\n",
       "      <th>2</th>\n",
       "      <td>Riya Verma</td>\n",
       "      <td>21</td>\n",
       "      <td>Female</td>\n",
       "    </tr>\n",
       "  </tbody>\n",
       "</table>\n",
       "</div>"
      ],
      "text/plain": [
       "         Name  Age  Gender\n",
       "0  Ram Sharma   22    Male\n",
       "1  Ashok Shah   23    Male\n",
       "2  Riya Verma   21  Female"
      ]
     },
     "execution_count": 3,
     "metadata": {},
     "output_type": "execute_result"
    }
   ],
   "source": [
    "df"
   ]
  },
  {
   "cell_type": "markdown",
   "id": "148a50c4",
   "metadata": {},
   "source": [
    "Notice use of braces and quotation carefully ({ 'col1' : ['char'] , 'col2' : [int] })"
   ]
  },
  {
   "cell_type": "markdown",
   "id": "bcc8ee37",
   "metadata": {},
   "source": [
    "Rows above are identifies using 0,1,2.. and so on by default.\n",
    "#### These Row Labels are called Index.\n",
    "You can assign them as follows.\n",
    "## 2. Index In DataFrame : "
   ]
  },
  {
   "cell_type": "code",
   "execution_count": 4,
   "id": "85c24906",
   "metadata": {},
   "outputs": [],
   "source": [
    "df = pd.DataFrame({\n",
    "        \"Name\"   : [\"Ram Sharma\", \"Ashok Shah\", \"Riya Verma\"],\n",
    "        \"Age\"    : [22, 23, 21],\n",
    "        \"Gender\" : ['Male', 'Male', 'Female']\n",
    "     },\n",
    "    index = ['Cust01', 'Cust02', 'Cust03']\n",
    ")"
   ]
  },
  {
   "cell_type": "code",
   "execution_count": 5,
   "id": "a83d9b29",
   "metadata": {},
   "outputs": [
    {
     "data": {
      "text/html": [
       "<div>\n",
       "<style scoped>\n",
       "    .dataframe tbody tr th:only-of-type {\n",
       "        vertical-align: middle;\n",
       "    }\n",
       "\n",
       "    .dataframe tbody tr th {\n",
       "        vertical-align: top;\n",
       "    }\n",
       "\n",
       "    .dataframe thead th {\n",
       "        text-align: right;\n",
       "    }\n",
       "</style>\n",
       "<table border=\"1\" class=\"dataframe\">\n",
       "  <thead>\n",
       "    <tr style=\"text-align: right;\">\n",
       "      <th></th>\n",
       "      <th>Name</th>\n",
       "      <th>Age</th>\n",
       "      <th>Gender</th>\n",
       "    </tr>\n",
       "  </thead>\n",
       "  <tbody>\n",
       "    <tr>\n",
       "      <th>Cust01</th>\n",
       "      <td>Ram Sharma</td>\n",
       "      <td>22</td>\n",
       "      <td>Male</td>\n",
       "    </tr>\n",
       "    <tr>\n",
       "      <th>Cust02</th>\n",
       "      <td>Ashok Shah</td>\n",
       "      <td>23</td>\n",
       "      <td>Male</td>\n",
       "    </tr>\n",
       "    <tr>\n",
       "      <th>Cust03</th>\n",
       "      <td>Riya Verma</td>\n",
       "      <td>21</td>\n",
       "      <td>Female</td>\n",
       "    </tr>\n",
       "  </tbody>\n",
       "</table>\n",
       "</div>"
      ],
      "text/plain": [
       "              Name  Age  Gender\n",
       "Cust01  Ram Sharma   22    Male\n",
       "Cust02  Ashok Shah   23    Male\n",
       "Cust03  Riya Verma   21  Female"
      ]
     },
     "execution_count": 5,
     "metadata": {},
     "output_type": "execute_result"
    }
   ],
   "source": [
    "df"
   ]
  },
  {
   "cell_type": "markdown",
   "id": "43e15524",
   "metadata": {},
   "source": [
    "## 3. Series : "
   ]
  },
  {
   "cell_type": "markdown",
   "id": "8a19bdaf",
   "metadata": {},
   "source": [
    "Each column in a DataFrame is a Series"
   ]
  },
  {
   "cell_type": "markdown",
   "id": "ffc6acb5",
   "metadata": {},
   "source": [
    "### A] **Creating Series** for storing list of fruits"
   ]
  },
  {
   "cell_type": "code",
   "execution_count": 6,
   "id": "f4a0ae21",
   "metadata": {},
   "outputs": [],
   "source": [
    "fruits = pd.Series(['Apple', 'Mango', 'Cherry'])"
   ]
  },
  {
   "cell_type": "code",
   "execution_count": 7,
   "id": "5327c862",
   "metadata": {},
   "outputs": [
    {
     "data": {
      "text/plain": [
       "0     Apple\n",
       "1     Mango\n",
       "2    Cherry\n",
       "dtype: object"
      ]
     },
     "execution_count": 7,
     "metadata": {},
     "output_type": "execute_result"
    }
   ],
   "source": [
    "fruits"
   ]
  },
  {
   "cell_type": "markdown",
   "id": "76b49299",
   "metadata": {},
   "source": [
    "or"
   ]
  },
  {
   "cell_type": "code",
   "execution_count": 8,
   "id": "81466ff6",
   "metadata": {},
   "outputs": [],
   "source": [
    "fruits1 = pd.Series(['Apple', 'Mango', 'Cherry'],name = 'Fruit')"
   ]
  },
  {
   "cell_type": "code",
   "execution_count": 9,
   "id": "b2832515",
   "metadata": {},
   "outputs": [
    {
     "data": {
      "text/plain": [
       "0     Apple\n",
       "1     Mango\n",
       "2    Cherry\n",
       "Name: Fruit, dtype: object"
      ]
     },
     "execution_count": 9,
     "metadata": {},
     "output_type": "execute_result"
    }
   ],
   "source": [
    "fruits1"
   ]
  },
  {
   "cell_type": "markdown",
   "id": "2a7bd2b1",
   "metadata": {},
   "source": [
    "## 4. Index In Series"
   ]
  },
  {
   "cell_type": "code",
   "execution_count": 10,
   "id": "c6d95063",
   "metadata": {},
   "outputs": [],
   "source": [
    "fruits = pd.Series(['Apple', 'Mango', 'Cherry'],name = 'Fruit',\n",
    "                  index = ['f01','f02','f03'])"
   ]
  },
  {
   "cell_type": "code",
   "execution_count": 11,
   "id": "dd4a2b80",
   "metadata": {},
   "outputs": [
    {
     "data": {
      "text/plain": [
       "f01     Apple\n",
       "f02     Mango\n",
       "f03    Cherry\n",
       "Name: Fruit, dtype: object"
      ]
     },
     "execution_count": 11,
     "metadata": {},
     "output_type": "execute_result"
    }
   ],
   "source": [
    "fruits"
   ]
  },
  {
   "cell_type": "code",
   "execution_count": 12,
   "id": "e4d00596",
   "metadata": {},
   "outputs": [
    {
     "data": {
      "text/plain": [
       "'Apple'"
      ]
     },
     "execution_count": 12,
     "metadata": {},
     "output_type": "execute_result"
    }
   ],
   "source": [
    "fruits[0]"
   ]
  },
  {
   "cell_type": "markdown",
   "id": "da92eee2",
   "metadata": {},
   "source": [
    "### B] Fetch Specific Series From DataFrame\n"
   ]
  },
  {
   "cell_type": "code",
   "execution_count": 13,
   "id": "fa463bf0",
   "metadata": {},
   "outputs": [
    {
     "data": {
      "text/plain": [
       "Cust01    Ram Sharma\n",
       "Cust02    Ashok Shah\n",
       "Cust03    Riya Verma\n",
       "Name: Name, dtype: object"
      ]
     },
     "execution_count": 13,
     "metadata": {},
     "output_type": "execute_result"
    }
   ],
   "source": [
    "df['Name']"
   ]
  },
  {
   "cell_type": "markdown",
   "id": "f836d007",
   "metadata": {},
   "source": [
    "## 5.Describe()"
   ]
  },
  {
   "cell_type": "markdown",
   "id": "a4828026",
   "metadata": {},
   "source": [
    "The describe() method provides a quick overview of the numerical data in a DataFrame."
   ]
  },
  {
   "cell_type": "code",
   "execution_count": 14,
   "id": "2c10c6a1",
   "metadata": {},
   "outputs": [
    {
     "data": {
      "text/html": [
       "<div>\n",
       "<style scoped>\n",
       "    .dataframe tbody tr th:only-of-type {\n",
       "        vertical-align: middle;\n",
       "    }\n",
       "\n",
       "    .dataframe tbody tr th {\n",
       "        vertical-align: top;\n",
       "    }\n",
       "\n",
       "    .dataframe thead th {\n",
       "        text-align: right;\n",
       "    }\n",
       "</style>\n",
       "<table border=\"1\" class=\"dataframe\">\n",
       "  <thead>\n",
       "    <tr style=\"text-align: right;\">\n",
       "      <th></th>\n",
       "      <th>Age</th>\n",
       "    </tr>\n",
       "  </thead>\n",
       "  <tbody>\n",
       "    <tr>\n",
       "      <th>count</th>\n",
       "      <td>3.0</td>\n",
       "    </tr>\n",
       "    <tr>\n",
       "      <th>mean</th>\n",
       "      <td>22.0</td>\n",
       "    </tr>\n",
       "    <tr>\n",
       "      <th>std</th>\n",
       "      <td>1.0</td>\n",
       "    </tr>\n",
       "    <tr>\n",
       "      <th>min</th>\n",
       "      <td>21.0</td>\n",
       "    </tr>\n",
       "    <tr>\n",
       "      <th>25%</th>\n",
       "      <td>21.5</td>\n",
       "    </tr>\n",
       "    <tr>\n",
       "      <th>50%</th>\n",
       "      <td>22.0</td>\n",
       "    </tr>\n",
       "    <tr>\n",
       "      <th>75%</th>\n",
       "      <td>22.5</td>\n",
       "    </tr>\n",
       "    <tr>\n",
       "      <th>max</th>\n",
       "      <td>23.0</td>\n",
       "    </tr>\n",
       "  </tbody>\n",
       "</table>\n",
       "</div>"
      ],
      "text/plain": [
       "        Age\n",
       "count   3.0\n",
       "mean   22.0\n",
       "std     1.0\n",
       "min    21.0\n",
       "25%    21.5\n",
       "50%    22.0\n",
       "75%    22.5\n",
       "max    23.0"
      ]
     },
     "execution_count": 14,
     "metadata": {},
     "output_type": "execute_result"
    }
   ],
   "source": [
    "df.describe()"
   ]
  },
  {
   "cell_type": "markdown",
   "id": "43a36a29",
   "metadata": {},
   "source": [
    "##  6. Info()"
   ]
  },
  {
   "cell_type": "markdown",
   "id": "82328317",
   "metadata": {},
   "source": [
    "The method info() provides technical information about a DataFrame"
   ]
  },
  {
   "cell_type": "code",
   "execution_count": 15,
   "id": "9890ff23",
   "metadata": {},
   "outputs": [
    {
     "name": "stdout",
     "output_type": "stream",
     "text": [
      "<class 'pandas.core.frame.DataFrame'>\n",
      "Index: 3 entries, Cust01 to Cust03\n",
      "Data columns (total 3 columns):\n",
      " #   Column  Non-Null Count  Dtype \n",
      "---  ------  --------------  ----- \n",
      " 0   Name    3 non-null      object\n",
      " 1   Age     3 non-null      int64 \n",
      " 2   Gender  3 non-null      object\n",
      "dtypes: int64(1), object(2)\n",
      "memory usage: 204.0+ bytes\n"
     ]
    }
   ],
   "source": [
    "df.info()"
   ]
  },
  {
   "cell_type": "markdown",
   "id": "4526eed1",
   "metadata": {},
   "source": [
    "## 7. Shape"
   ]
  },
  {
   "cell_type": "markdown",
   "id": "f4191b4f",
   "metadata": {},
   "source": [
    "It is an attribute that returns number of rows and columns in a dataframe.\n",
    "Or, number of rows in a series"
   ]
  },
  {
   "cell_type": "code",
   "execution_count": 16,
   "id": "4c2bbfc8",
   "metadata": {},
   "outputs": [
    {
     "data": {
      "text/plain": [
       "(3, 3)"
      ]
     },
     "execution_count": 16,
     "metadata": {},
     "output_type": "execute_result"
    }
   ],
   "source": [
    "df.shape"
   ]
  },
  {
   "cell_type": "code",
   "execution_count": 17,
   "id": "4e084cc6",
   "metadata": {},
   "outputs": [
    {
     "data": {
      "text/plain": [
       "(3,)"
      ]
     },
     "execution_count": 17,
     "metadata": {},
     "output_type": "execute_result"
    }
   ],
   "source": [
    "fruits.shape"
   ]
  },
  {
   "cell_type": "markdown",
   "id": "983bc01c",
   "metadata": {},
   "source": [
    "## 8. dtypes"
   ]
  },
  {
   "cell_type": "code",
   "execution_count": 18,
   "id": "0ea05c3d",
   "metadata": {},
   "outputs": [
    {
     "data": {
      "text/plain": [
       "Name      object\n",
       "Age        int64\n",
       "Gender    object\n",
       "dtype: object"
      ]
     },
     "execution_count": 18,
     "metadata": {},
     "output_type": "execute_result"
    }
   ],
   "source": [
    "df.dtypes"
   ]
  },
  {
   "cell_type": "markdown",
   "id": "ebbc090c",
   "metadata": {},
   "source": [
    "###### Notice shape, dtypes uses no brackets().\n",
    "Unlike head(),tail(),describe().\n",
    "Because shape, dtypes is an Pandas Atrribute i.e represent a characteristic of a DataFrame/Series, whereas a method (which requires brackets) do something with the DataFrame/Series"
   ]
  },
  {
   "cell_type": "markdown",
   "id": "8a89e559",
   "metadata": {},
   "source": [
    "#### ~ Pragya 🎀"
   ]
  }
 ],
 "metadata": {
  "kernelspec": {
   "display_name": "Python 3 (ipykernel)",
   "language": "python",
   "name": "python3"
  },
  "language_info": {
   "codemirror_mode": {
    "name": "ipython",
    "version": 3
   },
   "file_extension": ".py",
   "mimetype": "text/x-python",
   "name": "python",
   "nbconvert_exporter": "python",
   "pygments_lexer": "ipython3",
   "version": "3.9.13"
  }
 },
 "nbformat": 4,
 "nbformat_minor": 5
}
